{
 "cells": [
  {
   "cell_type": "markdown",
   "source": [
    "# Casino Adventure Game Documentation\n",
    "\n",
    "## 1. Introduction:\n",
    "   This code represents the client-side of a casino adventure game. The game involves navigating through various locations, managing money and debt, and making decisions that affect the player's outcome. The Leaflet library is used for displaying a map with markers, and the game state is checked to determine whether the player has won, lost, or the game is still in progress.\n",
    "\n",
    "## 2. Code Structure:\n",
    "\n",
    "### a. Player Initialization:\n",
    "   - The `initPlayer` function fetches player information from the server, including the player's name. If the player parameter is undefined, the pulled name from the server is used.\n",
    "\n",
    "### b. Map Initialization:\n",
    "   - The `initMap` function fetches city information from the server and displays markers on the Leaflet map. It also sets a special marker for the end location.\n",
    "\n",
    "### c. Game State Check:\n",
    "   - The `checkGameState` function evaluates the game state and displays the corresponding modal with appropriate messages and images for winning or losing.\n",
    "\n",
    "### d. Terminal and Information Updates:\n",
    "   - The `infoDex` function fetches player information, and the `updateTerminal` function updates the game terminal display, including the player's location, money, debt, and date.\n",
    "\n",
    "### e. Airport Navigation and Flight:\n",
    "   - The `printAirports` function prints a list of destination airports with buttons for navigation. The `flyto` function initiates a flight to the selected airport, triggering server-side updates.\n",
    "\n",
    "### f. UI Elements and Modal:\n",
    "   - Various UI elements, such as buttons, lists, and modals, are defined and used to interact with the player. Modal displays are used for game state messages and confirmation.\n",
    "\n",
    "## 3. Usage:\n",
    "   - The game starts by initializing the player and displaying available airports.\n",
    "   - The player navigates through destinations by clicking on buttons and flies to selected airports.\n",
    "   - The game state is checked after each action, and corresponding modals are displayed.\n",
    "   - The game continues until the player either wins, loses, or decides to exit to the main menu.\n",
    "\n",
    "## 4. Note:\n",
    "   - The game relies on a server at 'http://127.0.0.1:5000/' for player information and game updates.\n",
    "   - Leaflet library is used for map functionality.\n",
    "   - Modals are used for displaying game state messages.\n",
    "\n",
    "## 5. Conclusion:\n",
    "   This code provides the frontend functionality for a casino adventure game, including player initialization, navigation, and interaction with game elements. It combines map visualization with server communication to create an immersive gaming experience.\n"
   ],
   "metadata": {
    "collapsed": false
   },
   "id": "61fd76831bbd2e9"
  },
  {
   "cell_type": "code",
   "execution_count": null,
   "outputs": [],
   "source": [],
   "metadata": {
    "collapsed": false
   },
   "id": "714b1e709fdfa9bd"
  }
 ],
 "metadata": {
  "kernelspec": {
   "display_name": "Python 3",
   "language": "python",
   "name": "python3"
  },
  "language_info": {
   "codemirror_mode": {
    "name": "ipython",
    "version": 2
   },
   "file_extension": ".py",
   "mimetype": "text/x-python",
   "name": "python",
   "nbconvert_exporter": "python",
   "pygments_lexer": "ipython2",
   "version": "2.7.6"
  }
 },
 "nbformat": 4,
 "nbformat_minor": 5
}
