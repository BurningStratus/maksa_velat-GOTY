{
 "cells": [
  {
   "cell_type": "markdown",
   "source": [
    "# Blackjack Game Documentation\n",
    "\n",
    "## Overview\n",
    "The provided JavaScript code implements a simple Blackjack game that interacts with a server to fetch player data and update game progress. The game involves drawing cards, making bets, and determining the winner based on card values.\n",
    "\n",
    "## Global Variables\n",
    "- `dealerSum`: Total sum of points for the dealer's cards.\n",
    "- `playerSum`: Total sum of points for the player's cards.\n",
    "- `username`, `loca`, `money`, `betMoney`: Player information retrieved from the server.\n",
    "- `startMoney`: Initial amount of money the player has.\n",
    "- `dealerAceCount`, `playerAceCount`: Count of Ace cards for the dealer and player.\n",
    "- `hidden`: Represents the face-down card of the dealer.\n",
    "- `deck`: Array representing the deck of cards.\n",
    "- `playCount`: Tracks the number of rounds played.\n",
    "- `canHit`: Boolean flag to determine if the player can draw more cards.\n",
    "\n",
    "## HTML Element References\n",
    "- `tutorialButton`, `menuButton`, `closeButton`, `dialogTutorial`: References to HTML elements for tutorial and menu interactions.\n",
    "- `header`, `img`: References to the header and its image element.\n",
    "\n",
    "## Functions\n",
    "### `data()`\n",
    "- Asynchronous function to fetch player data from the server.\n",
    "\n",
    "### `buildDeck()`\n",
    "- Builds a standard deck of cards using suits and values.\n",
    "\n",
    "### `shuffleDeck()`\n",
    "- Shuffles the deck using a random swapping algorithm.\n",
    "\n",
    "### `startGame()`\n",
    "- Initializes the game by dealing cards to the dealer and player.\n",
    "\n",
    "### `bet()`\n",
    "- Prompts the player to enter a bet.\n",
    "\n",
    "### `hit()`\n",
    "- Draws a card for the player.\n",
    "\n",
    "### `stay()`\n",
    "- Resolves the game and updates player's money based on the outcome.\n",
    "\n",
    "### `kickedOut()`\n",
    "- Handles the scenario where the player is kicked out of the casino.\n",
    "\n",
    "### `playAgain()`\n",
    "- Prompts the player to play again or redirects to the main game page.\n",
    "\n",
    "### `reduceAce(playerSum, playerAceCount)`\n",
    "- Reduces the value of Ace cards if the total sum exceeds 21.\n",
    "\n",
    "### `clearCards()`\n",
    "- Clears displayed cards and results.\n",
    "\n",
    "### `createCard(who, hidden)`\n",
    "- Creates a card element for the dealer or player and updates sums and ace counts.\n",
    "\n",
    "### `getValue(card)`\n",
    "- Retrieves the numerical value of a card.\n",
    "\n",
    "### `checkAce(card)`\n",
    "- Checks if a card is an Ace.\n",
    "\n",
    "## Event Listeners\n",
    "- Attached to buttons and elements for tutorial, close, menu, and play again functionality.\n",
    "\n",
    "## Server Interaction\n",
    "- Fetches player data and updates money on the server.\n",
    "\n",
    "---"
   ],
   "metadata": {
    "collapsed": false
   },
   "id": "4219774626718b49"
  },
  {
   "cell_type": "code",
   "execution_count": null,
   "outputs": [],
   "source": [],
   "metadata": {
    "collapsed": false
   },
   "id": "2132410c46bb2334"
  }
 ],
 "metadata": {
  "kernelspec": {
   "display_name": "Python 3",
   "language": "python",
   "name": "python3"
  },
  "language_info": {
   "codemirror_mode": {
    "name": "ipython",
    "version": 2
   },
   "file_extension": ".py",
   "mimetype": "text/x-python",
   "name": "python",
   "nbconvert_exporter": "python",
   "pygments_lexer": "ipython2",
   "version": "2.7.6"
  }
 },
 "nbformat": 4,
 "nbformat_minor": 5
}
